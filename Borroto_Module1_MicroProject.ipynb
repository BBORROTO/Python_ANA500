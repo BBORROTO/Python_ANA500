{
 "cells": [
  {
   "cell_type": "markdown",
   "id": "6dc18054-765b-414a-a07f-765bdf5190a2",
   "metadata": {},
   "source": [
    "#### Borroto_Module1_MicroProject "
   ]
  },
  {
   "cell_type": "code",
   "execution_count": 70,
   "id": "9d8a3e74-09a0-431e-bab3-2eb16747783b",
   "metadata": {},
   "outputs": [],
   "source": [
    "from pathlib import Path\n",
    "import math\n",
    "import pandas as pd\n",
    "import seaborn as sns\n",
    "import statsmodels.graphics.api as smg\n",
    "import matplotlib.pyplot as plt\n",
    "from sklearn.metrics import pairwise\n",
    "from sklearn import preprocessing\n",
    "from sklearn.model_selection import train_test_split\n",
    "from sklearn.metrics import accuracy_score, confusion_matrix, mean_squared_error\n",
    "from sklearn.neighbors import KNeighborsClassifier, KNeighborsRegressor \n",
    "from pathlib import Path\n",
    "import pandas as pd\n",
    "import numpy as np\n",
    "from scipy.spatial.distance import cosine\n",
    "from mlxtend.frequent_patterns import apriori\n",
    "from mlxtend.frequent_patterns import association_rules\n",
    "from sklearn.metrics.pairwise import cosine_similarity\n",
    "from pathlib import Path\n",
    "import pandas as pd\n",
    "import numpy as np\n",
    "from pandas.plotting import parallel_coordinates\n",
    "from sklearn import preprocessing\n",
    "from sklearn.cluster import KMeans\n",
    "from sklearn.metrics import pairwise\n",
    "from scipy.cluster.hierarchy import linkage, dendrogram, fcluster\n",
    "import matplotlib.pylab as plt\n",
    "%matplotlib inline"
   ]
  },
  {
   "cell_type": "code",
   "execution_count": 71,
   "id": "bceb265a-02ea-4c40-97d2-dfbdab6b95c7",
   "metadata": {},
   "outputs": [],
   "source": [
    "dfraw = pd.read_csv(\"C:\\\\Users\\\\britt\\\\heart_disease.csv\")"
   ]
  },
  {
   "cell_type": "code",
   "execution_count": 30,
   "id": "c95f1b3e-e35c-46c2-b182-96b43e16da5a",
   "metadata": {},
   "outputs": [
    {
     "name": "stdout",
     "output_type": "stream",
     "text": [
      "<class 'pandas.core.frame.DataFrame'>\n",
      "RangeIndex: 918 entries, 0 to 917\n",
      "Data columns (total 12 columns):\n",
      " #   Column          Non-Null Count  Dtype  \n",
      "---  ------          --------------  -----  \n",
      " 0   Age             918 non-null    int64  \n",
      " 1   Sex             918 non-null    object \n",
      " 2   ChestPainType   918 non-null    object \n",
      " 3   RestingBP       918 non-null    int64  \n",
      " 4   Cholesterol     918 non-null    int64  \n",
      " 5   FastingBS       918 non-null    int64  \n",
      " 6   RestingECG      918 non-null    object \n",
      " 7   MaxHR           918 non-null    int64  \n",
      " 8   ExerciseAngina  918 non-null    object \n",
      " 9   Oldpeak         918 non-null    float64\n",
      " 10  ST_Slope        918 non-null    object \n",
      " 11  HeartDisease    918 non-null    int64  \n",
      "dtypes: float64(1), int64(6), object(5)\n",
      "memory usage: 86.2+ KB\n"
     ]
    }
   ],
   "source": [
    "#Review df column names, non-null count and data types\n",
    "dfraw.info()"
   ]
  },
  {
   "cell_type": "code",
   "execution_count": 32,
   "id": "83f36aed-07ea-4360-b552-41294b6acc8f",
   "metadata": {},
   "outputs": [
    {
     "data": {
      "text/plain": [
       "Index(['Age', 'Sex', 'ChestPainType', 'RestingBP', 'Cholesterol', 'FastingBS',\n",
       "       'RestingECG', 'MaxHR', 'ExerciseAngina', 'Oldpeak', 'ST_Slope',\n",
       "       'HeartDisease'],\n",
       "      dtype='object')"
      ]
     },
     "execution_count": 32,
     "metadata": {},
     "output_type": "execute_result"
    }
   ],
   "source": [
    "#Verify there are no spaces in the coloumn names \n",
    "dfraw.columns"
   ]
  },
  {
   "cell_type": "code",
   "execution_count": 44,
   "id": "a5bccb71-6809-477e-8bda-68b710ba3612",
   "metadata": {},
   "outputs": [
    {
     "name": "stdout",
     "output_type": "stream",
     "text": [
      "\n",
      "Data after removing duplicates:\n",
      "<class 'pandas.core.frame.DataFrame'>\n",
      "RangeIndex: 918 entries, 0 to 917\n",
      "Data columns (total 12 columns):\n",
      " #   Column          Non-Null Count  Dtype  \n",
      "---  ------          --------------  -----  \n",
      " 0   Age             918 non-null    int64  \n",
      " 1   Sex             918 non-null    object \n",
      " 2   ChestPainType   918 non-null    object \n",
      " 3   RestingBP       918 non-null    int64  \n",
      " 4   Cholesterol     918 non-null    int64  \n",
      " 5   FastingBS       918 non-null    int64  \n",
      " 6   RestingECG      918 non-null    object \n",
      " 7   MaxHR           918 non-null    int64  \n",
      " 8   ExerciseAngina  918 non-null    object \n",
      " 9   Oldpeak         918 non-null    float64\n",
      " 10  ST_Slope        918 non-null    object \n",
      " 11  HeartDisease    918 non-null    int64  \n",
      "dtypes: float64(1), int64(6), object(5)\n",
      "memory usage: 86.2+ KB\n",
      "None\n"
     ]
    }
   ],
   "source": [
    "# Remove any duplicate rows, if they exist\n",
    "dfraw.drop_duplicates(inplace=True)\n",
    "print(\"\\nData after removing duplicates:\")\n",
    "print(dfraw.info())"
   ]
  },
  {
   "cell_type": "code",
   "execution_count": 38,
   "id": "2e78f8f2-5921-4582-b2ce-529924268842",
   "metadata": {},
   "outputs": [
    {
     "name": "stdout",
     "output_type": "stream",
     "text": [
      "     Age Sex ChestPainType  RestingBP  Cholesterol  FastingBS RestingECG  \\\n",
      "0     40   M           ATA        140          289          0     Normal   \n",
      "1     49   F           NAP        160          180          0     Normal   \n",
      "2     37   M           ATA        130          283          0         ST   \n",
      "3     48   F           ASY        138          214          0     Normal   \n",
      "4     54   M           NAP        150          195          0     Normal   \n",
      "..   ...  ..           ...        ...          ...        ...        ...   \n",
      "913   45   M            TA        110          264          0     Normal   \n",
      "914   68   M           ASY        144          193          1     Normal   \n",
      "915   57   M           ASY        130          131          0     Normal   \n",
      "916   57   F           ATA        130          236          0        LVH   \n",
      "917   38   M           NAP        138          175          0     Normal   \n",
      "\n",
      "     MaxHR ExerciseAngina  Oldpeak ST_Slope  HeartDisease  \n",
      "0      172              N      0.0       Up             0  \n",
      "1      156              N      1.0     Flat             1  \n",
      "2       98              N      0.0       Up             0  \n",
      "3      108              Y      1.5     Flat             1  \n",
      "4      122              N      0.0       Up             0  \n",
      "..     ...            ...      ...      ...           ...  \n",
      "913    132              N      1.2     Flat             1  \n",
      "914    141              N      3.4     Flat             1  \n",
      "915    115              Y      1.2     Flat             1  \n",
      "916    174              N      0.0     Flat             1  \n",
      "917    173              N      0.0       Up             0  \n",
      "\n",
      "[918 rows x 12 columns]\n"
     ]
    }
   ],
   "source": [
    "#reviewing the values of the df\n",
    "print(dfraw)"
   ]
  },
  {
   "cell_type": "code",
   "execution_count": 39,
   "id": "9f6c17f1-6bd7-4644-906e-0538af78bed2",
   "metadata": {},
   "outputs": [
    {
     "data": {
      "text/html": [
       "<div>\n",
       "<style scoped>\n",
       "    .dataframe tbody tr th:only-of-type {\n",
       "        vertical-align: middle;\n",
       "    }\n",
       "\n",
       "    .dataframe tbody tr th {\n",
       "        vertical-align: top;\n",
       "    }\n",
       "\n",
       "    .dataframe thead th {\n",
       "        text-align: right;\n",
       "    }\n",
       "</style>\n",
       "<table border=\"1\" class=\"dataframe\">\n",
       "  <thead>\n",
       "    <tr style=\"text-align: right;\">\n",
       "      <th></th>\n",
       "      <th>Age</th>\n",
       "      <th>RestingBP</th>\n",
       "      <th>Cholesterol</th>\n",
       "      <th>FastingBS</th>\n",
       "      <th>MaxHR</th>\n",
       "      <th>Oldpeak</th>\n",
       "      <th>HeartDisease</th>\n",
       "    </tr>\n",
       "  </thead>\n",
       "  <tbody>\n",
       "    <tr>\n",
       "      <th>count</th>\n",
       "      <td>918.000000</td>\n",
       "      <td>918.000000</td>\n",
       "      <td>918.000000</td>\n",
       "      <td>918.000000</td>\n",
       "      <td>918.000000</td>\n",
       "      <td>918.000000</td>\n",
       "      <td>918.000000</td>\n",
       "    </tr>\n",
       "    <tr>\n",
       "      <th>mean</th>\n",
       "      <td>53.510893</td>\n",
       "      <td>132.396514</td>\n",
       "      <td>198.799564</td>\n",
       "      <td>0.233115</td>\n",
       "      <td>136.809368</td>\n",
       "      <td>0.887364</td>\n",
       "      <td>0.553377</td>\n",
       "    </tr>\n",
       "    <tr>\n",
       "      <th>std</th>\n",
       "      <td>9.432617</td>\n",
       "      <td>18.514154</td>\n",
       "      <td>109.384145</td>\n",
       "      <td>0.423046</td>\n",
       "      <td>25.460334</td>\n",
       "      <td>1.066570</td>\n",
       "      <td>0.497414</td>\n",
       "    </tr>\n",
       "    <tr>\n",
       "      <th>min</th>\n",
       "      <td>28.000000</td>\n",
       "      <td>0.000000</td>\n",
       "      <td>0.000000</td>\n",
       "      <td>0.000000</td>\n",
       "      <td>60.000000</td>\n",
       "      <td>-2.600000</td>\n",
       "      <td>0.000000</td>\n",
       "    </tr>\n",
       "    <tr>\n",
       "      <th>25%</th>\n",
       "      <td>47.000000</td>\n",
       "      <td>120.000000</td>\n",
       "      <td>173.250000</td>\n",
       "      <td>0.000000</td>\n",
       "      <td>120.000000</td>\n",
       "      <td>0.000000</td>\n",
       "      <td>0.000000</td>\n",
       "    </tr>\n",
       "    <tr>\n",
       "      <th>50%</th>\n",
       "      <td>54.000000</td>\n",
       "      <td>130.000000</td>\n",
       "      <td>223.000000</td>\n",
       "      <td>0.000000</td>\n",
       "      <td>138.000000</td>\n",
       "      <td>0.600000</td>\n",
       "      <td>1.000000</td>\n",
       "    </tr>\n",
       "    <tr>\n",
       "      <th>75%</th>\n",
       "      <td>60.000000</td>\n",
       "      <td>140.000000</td>\n",
       "      <td>267.000000</td>\n",
       "      <td>0.000000</td>\n",
       "      <td>156.000000</td>\n",
       "      <td>1.500000</td>\n",
       "      <td>1.000000</td>\n",
       "    </tr>\n",
       "    <tr>\n",
       "      <th>max</th>\n",
       "      <td>77.000000</td>\n",
       "      <td>200.000000</td>\n",
       "      <td>603.000000</td>\n",
       "      <td>1.000000</td>\n",
       "      <td>202.000000</td>\n",
       "      <td>6.200000</td>\n",
       "      <td>1.000000</td>\n",
       "    </tr>\n",
       "  </tbody>\n",
       "</table>\n",
       "</div>"
      ],
      "text/plain": [
       "              Age   RestingBP  Cholesterol   FastingBS       MaxHR  \\\n",
       "count  918.000000  918.000000   918.000000  918.000000  918.000000   \n",
       "mean    53.510893  132.396514   198.799564    0.233115  136.809368   \n",
       "std      9.432617   18.514154   109.384145    0.423046   25.460334   \n",
       "min     28.000000    0.000000     0.000000    0.000000   60.000000   \n",
       "25%     47.000000  120.000000   173.250000    0.000000  120.000000   \n",
       "50%     54.000000  130.000000   223.000000    0.000000  138.000000   \n",
       "75%     60.000000  140.000000   267.000000    0.000000  156.000000   \n",
       "max     77.000000  200.000000   603.000000    1.000000  202.000000   \n",
       "\n",
       "          Oldpeak  HeartDisease  \n",
       "count  918.000000    918.000000  \n",
       "mean     0.887364      0.553377  \n",
       "std      1.066570      0.497414  \n",
       "min     -2.600000      0.000000  \n",
       "25%      0.000000      0.000000  \n",
       "50%      0.600000      1.000000  \n",
       "75%      1.500000      1.000000  \n",
       "max      6.200000      1.000000  "
      ]
     },
     "execution_count": 39,
     "metadata": {},
     "output_type": "execute_result"
    }
   ],
   "source": [
    "#this method `describe` prints common statistics \n",
    "dfraw.describe()"
   ]
  },
  {
   "cell_type": "code",
   "execution_count": 72,
   "id": "524cb141-9ff4-4cdc-9622-b21b53b25aa1",
   "metadata": {},
   "outputs": [
    {
     "name": "stdout",
     "output_type": "stream",
     "text": [
      "     Age  Sex ChestPainType  RestingBP  Cholesterol  FastingBS RestingECG  \\\n",
      "0     40    1           ATA        140          289          0     Normal   \n",
      "1     49    0           NAP        160          180          0     Normal   \n",
      "2     37    1           ATA        130          283          0         ST   \n",
      "3     48    0           ASY        138          214          0     Normal   \n",
      "4     54    1           NAP        150          195          0     Normal   \n",
      "..   ...  ...           ...        ...          ...        ...        ...   \n",
      "913   45    1            TA        110          264          0     Normal   \n",
      "914   68    1           ASY        144          193          1     Normal   \n",
      "915   57    1           ASY        130          131          0     Normal   \n",
      "916   57    0           ATA        130          236          0        LVH   \n",
      "917   38    1           NAP        138          175          0     Normal   \n",
      "\n",
      "     MaxHR ExerciseAngina  Oldpeak ST_Slope  HeartDisease  \n",
      "0      172              N      0.0       Up             0  \n",
      "1      156              N      1.0     Flat             1  \n",
      "2       98              N      0.0       Up             0  \n",
      "3      108              Y      1.5     Flat             1  \n",
      "4      122              N      0.0       Up             0  \n",
      "..     ...            ...      ...      ...           ...  \n",
      "913    132              N      1.2     Flat             1  \n",
      "914    141              N      3.4     Flat             1  \n",
      "915    115              Y      1.2     Flat             1  \n",
      "916    174              N      0.0     Flat             1  \n",
      "917    173              N      0.0       Up             0  \n",
      "\n",
      "[918 rows x 12 columns]\n"
     ]
    }
   ],
   "source": [
    "#map the binary values of the datframe\n",
    "dfraw[\"Sex\"] = dfraw[\"Sex\"].map({\"M\": 1, \"F\": 0})\n",
    "print(dfraw)"
   ]
  },
  {
   "cell_type": "code",
   "execution_count": 73,
   "id": "3f207ea7-9c23-4b67-a7a1-a35e015613c7",
   "metadata": {},
   "outputs": [
    {
     "name": "stdout",
     "output_type": "stream",
     "text": [
      "     Age  Sex ChestPainType  RestingBP  Cholesterol  FastingBS RestingECG  \\\n",
      "0     40    1           ATA        140          289          0     Normal   \n",
      "1     49    0           NAP        160          180          0     Normal   \n",
      "2     37    1           ATA        130          283          0         ST   \n",
      "3     48    0           ASY        138          214          0     Normal   \n",
      "4     54    1           NAP        150          195          0     Normal   \n",
      "..   ...  ...           ...        ...          ...        ...        ...   \n",
      "913   45    1            TA        110          264          0     Normal   \n",
      "914   68    1           ASY        144          193          1     Normal   \n",
      "915   57    1           ASY        130          131          0     Normal   \n",
      "916   57    0           ATA        130          236          0        LVH   \n",
      "917   38    1           NAP        138          175          0     Normal   \n",
      "\n",
      "     MaxHR  ExerciseAngina  Oldpeak ST_Slope  HeartDisease  \n",
      "0      172               0      0.0       Up             0  \n",
      "1      156               0      1.0     Flat             1  \n",
      "2       98               0      0.0       Up             0  \n",
      "3      108               1      1.5     Flat             1  \n",
      "4      122               0      0.0       Up             0  \n",
      "..     ...             ...      ...      ...           ...  \n",
      "913    132               0      1.2     Flat             1  \n",
      "914    141               0      3.4     Flat             1  \n",
      "915    115               1      1.2     Flat             1  \n",
      "916    174               0      0.0     Flat             1  \n",
      "917    173               0      0.0       Up             0  \n",
      "\n",
      "[918 rows x 12 columns]\n"
     ]
    }
   ],
   "source": [
    "#map the binary values of the datframe\n",
    "dfraw[\"ExerciseAngina\"] = dfraw[\"ExerciseAngina\"].map({\"Y\": 1, \"N\": 0})\n",
    "print(dfraw)"
   ]
  },
  {
   "cell_type": "code",
   "execution_count": 74,
   "id": "16f77f85-a934-4ddb-9304-73433464334b",
   "metadata": {},
   "outputs": [],
   "source": [
    "import pandas as pd\n",
    "from sklearn.preprocessing import OrdinalEncoder"
   ]
  },
  {
   "cell_type": "code",
   "execution_count": 75,
   "id": "33c8cd61-a26d-492c-8e97-2b946d09fbb7",
   "metadata": {},
   "outputs": [
    {
     "name": "stdout",
     "output_type": "stream",
     "text": [
      "     Age  Sex  ChestPainType  RestingBP  Cholesterol  FastingBS RestingECG  \\\n",
      "0     40    1              0        140          289          0     Normal   \n",
      "1     49    0              0        160          180          0     Normal   \n",
      "2     37    1              0        130          283          0         ST   \n",
      "3     48    0              1        138          214          0     Normal   \n",
      "4     54    1              0        150          195          0     Normal   \n",
      "..   ...  ...            ...        ...          ...        ...        ...   \n",
      "913   45    1              1        110          264          0     Normal   \n",
      "914   68    1              1        144          193          1     Normal   \n",
      "915   57    1              1        130          131          0     Normal   \n",
      "916   57    0              0        130          236          0        LVH   \n",
      "917   38    1              0        138          175          0     Normal   \n",
      "\n",
      "     MaxHR  ExerciseAngina  Oldpeak ST_Slope  HeartDisease  \n",
      "0      172               0      0.0       Up             0  \n",
      "1      156               0      1.0     Flat             1  \n",
      "2       98               0      0.0       Up             0  \n",
      "3      108               1      1.5     Flat             1  \n",
      "4      122               0      0.0       Up             0  \n",
      "..     ...             ...      ...      ...           ...  \n",
      "913    132               0      1.2     Flat             1  \n",
      "914    141               0      3.4     Flat             1  \n",
      "915    115               1      1.2     Flat             1  \n",
      "916    174               0      0.0     Flat             1  \n",
      "917    173               0      0.0       Up             0  \n",
      "\n",
      "[918 rows x 12 columns]\n"
     ]
    }
   ],
   "source": [
    "#map ChestPainType values\n",
    "dfraw[\"ChestPainType\"] = dfraw[\"ChestPainType\"].map({\"ASY\": 1, \"ATA\": 0, \"NAP\": 0, \"TA\": 1})\n",
    "print(dfraw)"
   ]
  },
  {
   "cell_type": "code",
   "execution_count": 76,
   "id": "63e5e901-32b4-4dbb-a2ae-868cc01b8595",
   "metadata": {},
   "outputs": [
    {
     "name": "stdout",
     "output_type": "stream",
     "text": [
      "     Age  Sex  ChestPainType  RestingBP  Cholesterol  FastingBS RestingECG  \\\n",
      "0     40    1              0        140          289          0     Normal   \n",
      "1     49    0              0        160          180          0     Normal   \n",
      "2     37    1              0        130          283          0         ST   \n",
      "3     48    0              1        138          214          0     Normal   \n",
      "4     54    1              0        150          195          0     Normal   \n",
      "..   ...  ...            ...        ...          ...        ...        ...   \n",
      "913   45    1              1        110          264          0     Normal   \n",
      "914   68    1              1        144          193          1     Normal   \n",
      "915   57    1              1        130          131          0     Normal   \n",
      "916   57    0              0        130          236          0        LVH   \n",
      "917   38    1              0        138          175          0     Normal   \n",
      "\n",
      "     MaxHR  ExerciseAngina  Oldpeak  ST_Slope  HeartDisease  \n",
      "0      172               0      0.0         0             0  \n",
      "1      156               0      1.0         1             1  \n",
      "2       98               0      0.0         0             0  \n",
      "3      108               1      1.5         1             1  \n",
      "4      122               0      0.0         0             0  \n",
      "..     ...             ...      ...       ...           ...  \n",
      "913    132               0      1.2         1             1  \n",
      "914    141               0      3.4         1             1  \n",
      "915    115               1      1.2         1             1  \n",
      "916    174               0      0.0         1             1  \n",
      "917    173               0      0.0         0             0  \n",
      "\n",
      "[918 rows x 12 columns]\n"
     ]
    }
   ],
   "source": [
    "#map ST_Slope values\n",
    "dfraw[\"ST_Slope\"] = dfraw[\"ST_Slope\"].map({\"Down\": 1, \"Flat\": 1, \"Up\": 0})\n",
    "print(dfraw)"
   ]
  },
  {
   "cell_type": "code",
   "execution_count": 77,
   "id": "ba48576c-c243-476a-9b1d-c88f12e4c2dd",
   "metadata": {},
   "outputs": [
    {
     "name": "stdout",
     "output_type": "stream",
     "text": [
      "     Age  Sex  ChestPainType  RestingBP  Cholesterol  FastingBS RestingECG  \\\n",
      "0      0    1              0        140          289          0     Normal   \n",
      "1      0    0              0        160          180          0     Normal   \n",
      "2      0    1              0        130          283          0         ST   \n",
      "3      0    0              1        138          214          0     Normal   \n",
      "4      0    1              0        150          195          0     Normal   \n",
      "..   ...  ...            ...        ...          ...        ...        ...   \n",
      "913    0    1              1        110          264          0     Normal   \n",
      "914    1    1              1        144          193          1     Normal   \n",
      "915    1    1              1        130          131          0     Normal   \n",
      "916    1    0              0        130          236          0        LVH   \n",
      "917    0    1              0        138          175          0     Normal   \n",
      "\n",
      "     MaxHR  ExerciseAngina  Oldpeak  ST_Slope  HeartDisease  \n",
      "0      172               0      0.0         0             0  \n",
      "1      156               0      1.0         1             1  \n",
      "2       98               0      0.0         0             0  \n",
      "3      108               1      1.5         1             1  \n",
      "4      122               0      0.0         0             0  \n",
      "..     ...             ...      ...       ...           ...  \n",
      "913    132               0      1.2         1             1  \n",
      "914    141               0      3.4         1             1  \n",
      "915    115               1      1.2         1             1  \n",
      "916    174               0      0.0         1             1  \n",
      "917    173               0      0.0         0             0  \n",
      "\n",
      "[918 rows x 12 columns]\n"
     ]
    }
   ],
   "source": [
    "#map AGE values 56 - 77 = 1 for Old or 28 - 55 = 0 for Young\n",
    "dfraw[\"Age\"] = dfraw[\"Age\"].apply(lambda x: 0 if 28 <= x <= 55 else 1)\n",
    "print(dfraw)"
   ]
  },
  {
   "cell_type": "code",
   "execution_count": 78,
   "id": "20061415-fb5d-4ed8-a03c-93b90a260db7",
   "metadata": {},
   "outputs": [
    {
     "name": "stdout",
     "output_type": "stream",
     "text": [
      "     Age  Sex  ChestPainType  RestingBP  Cholesterol  FastingBS RestingECG  \\\n",
      "0      0    1              0        140            1          0     Normal   \n",
      "1      0    0              0        160            0          0     Normal   \n",
      "2      0    1              0        130            1          0         ST   \n",
      "3      0    0              1        138            0          0     Normal   \n",
      "4      0    1              0        150            0          0     Normal   \n",
      "..   ...  ...            ...        ...          ...        ...        ...   \n",
      "913    0    1              1        110            1          0     Normal   \n",
      "914    1    1              1        144            0          1     Normal   \n",
      "915    1    1              1        130            0          0     Normal   \n",
      "916    1    0              0        130            0          0        LVH   \n",
      "917    0    1              0        138            0          0     Normal   \n",
      "\n",
      "     MaxHR  ExerciseAngina  Oldpeak  ST_Slope  HeartDisease  \n",
      "0      172               0      0.0         0             0  \n",
      "1      156               0      1.0         1             1  \n",
      "2       98               0      0.0         0             0  \n",
      "3      108               1      1.5         1             1  \n",
      "4      122               0      0.0         0             0  \n",
      "..     ...             ...      ...       ...           ...  \n",
      "913    132               0      1.2         1             1  \n",
      "914    141               0      3.4         1             1  \n",
      "915    115               1      1.2         1             1  \n",
      "916    174               0      0.0         1             1  \n",
      "917    173               0      0.0         0             0  \n",
      "\n",
      "[918 rows x 12 columns]\n"
     ]
    }
   ],
   "source": [
    "#map Cholesterol ranges from 0- 240 = 0 for normal 241 - 603 = 1 for high\n",
    "dfraw[\"Cholesterol\"] = dfraw[\"Cholesterol\"].apply(lambda x: 0 if 0 <= x <= 240 else 1)\n",
    "print(dfraw)"
   ]
  },
  {
   "cell_type": "code",
   "execution_count": 79,
   "id": "e71c45f0-c3d4-4198-8af5-dfe2f2172cf1",
   "metadata": {},
   "outputs": [
    {
     "name": "stdout",
     "output_type": "stream",
     "text": [
      "     Age  Sex  ChestPainType  RestingBP  Cholesterol  FastingBS RestingECG  \\\n",
      "0      0    1              0          1            1          0     Normal   \n",
      "1      0    0              0          1            0          0     Normal   \n",
      "2      0    1              0          0            1          0         ST   \n",
      "3      0    0              1          1            0          0     Normal   \n",
      "4      0    1              0          1            0          0     Normal   \n",
      "..   ...  ...            ...        ...          ...        ...        ...   \n",
      "913    0    1              1          0            1          0     Normal   \n",
      "914    1    1              1          1            0          1     Normal   \n",
      "915    1    1              1          0            0          0     Normal   \n",
      "916    1    0              0          0            0          0        LVH   \n",
      "917    0    1              0          1            0          0     Normal   \n",
      "\n",
      "     MaxHR  ExerciseAngina  Oldpeak  ST_Slope  HeartDisease  \n",
      "0      172               0      0.0         0             0  \n",
      "1      156               0      1.0         1             1  \n",
      "2       98               0      0.0         0             0  \n",
      "3      108               1      1.5         1             1  \n",
      "4      122               0      0.0         0             0  \n",
      "..     ...             ...      ...       ...           ...  \n",
      "913    132               0      1.2         1             1  \n",
      "914    141               0      3.4         1             1  \n",
      "915    115               1      1.2         1             1  \n",
      "916    174               0      0.0         1             1  \n",
      "917    173               0      0.0         0             0  \n",
      "\n",
      "[918 rows x 12 columns]\n"
     ]
    }
   ],
   "source": [
    "#map RestingBP ranges from 0- 130 = 0 for normal 131 - 200 = 1 for high\n",
    "dfraw[\"RestingBP\"] = dfraw[\"RestingBP\"].apply(lambda x: 0 if 0 <= x <= 130 else 1)\n",
    "print(dfraw)"
   ]
  },
  {
   "cell_type": "code",
   "execution_count": null,
   "id": "b856883d-e7d3-41e9-96a2-f2e537f124b3",
   "metadata": {},
   "outputs": [],
   "source": []
  }
 ],
 "metadata": {
  "kernelspec": {
   "display_name": "Python 3 (ipykernel)",
   "language": "python",
   "name": "python3"
  },
  "language_info": {
   "codemirror_mode": {
    "name": "ipython",
    "version": 3
   },
   "file_extension": ".py",
   "mimetype": "text/x-python",
   "name": "python",
   "nbconvert_exporter": "python",
   "pygments_lexer": "ipython3",
   "version": "3.12.7"
  }
 },
 "nbformat": 4,
 "nbformat_minor": 5
}
